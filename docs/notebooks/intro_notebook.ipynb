{
 "cells": [
  {
   "cell_type": "markdown",
   "id": "accepting-editor",
   "metadata": {
    "cell_marker": "\"\"\""
   },
   "source": [
    "# Introducing Jupyter Notebooks in Sphinx\n",
    "\n",
    "This notebook showcases very basic functionality of rendering your jupyter notebooks as tutorials inside your sphinx documentation.\n",
    "\n",
    "As part of the LINCC Frameworks python project template, your notebooks will be executed AND rendered at document build time.\n",
    "\n",
    "You can read more about Sphinx, ReadTheDocs, and building notebooks in [LINCC's documentation](https://lincc-ppt.readthedocs.io/en/latest/practices/sphinx.html)"
   ]
  },
  {
   "cell_type": "raw",
   "id": "9e08c259aefa4ed",
   "metadata": {
    "collapsed": false
   },
   "source": [
    "# Create a source table and pack it into nested structures and lists"
   ]
  },
  {
   "cell_type": "code",
   "execution_count": null,
   "id": "165a7a0918b5a866",
   "metadata": {
    "ExecuteTime": {
     "end_time": "2024-01-29T20:39:19.731782Z",
     "start_time": "2024-01-29T20:39:19.718734Z"
    }
   },
   "outputs": [],
   "source": [
    "import numpy as np\n",
    "import pandas as pd\n",
    "\n",
    "from pandas_ts.packer import pack_df\n",
    "\n",
    "\n",
    "# Adopted from\n",
    "# https://github.com/lincc-frameworks/tape/blob/6a694c4c138aadb1508c2a96de4fa63f90319331/tests/tape_tests/conftest.py#L15\n",
    "def create_test_rows():\n",
    "    num_points = 1000\n",
    "    all_bands = np.array([\"r\", \"g\", \"b\", \"i\"])\n",
    "\n",
    "    rows = {\n",
    "        \"id\": 8000 + (np.arange(num_points) % 5),\n",
    "        \"time\": np.arange(num_points),\n",
    "        \"flux\": np.arange(num_points) % len(all_bands),\n",
    "        \"band\": np.repeat(all_bands, num_points / len(all_bands)),\n",
    "        \"err\": 0.1 * (np.arange(num_points) % 10),\n",
    "        \"count\": np.arange(num_points),\n",
    "        # Not sure that I'm ready for Nones\n",
    "        # \"something_else\": np.full(num_points, None),\n",
    "    }\n",
    "\n",
    "    return rows\n",
    "\n",
    "\n",
    "sources = pd.DataFrame(create_test_rows())\n",
    "sources.set_index(\"id\", inplace=True)\n",
    "sources"
   ]
  },
  {
   "cell_type": "code",
   "execution_count": null,
   "id": "951dbb53d50f21c3",
   "metadata": {
    "ExecuteTime": {
     "end_time": "2024-01-29T20:39:19.779538Z",
     "start_time": "2024-01-29T20:39:19.730689Z"
    }
   },
   "outputs": [],
   "source": [
    "packed = pack_df(sources, name=\"light_curve\")\n",
    "packed"
   ]
  },
  {
   "cell_type": "code",
   "execution_count": null,
   "id": "620ad241f94d3e98",
   "metadata": {
    "ExecuteTime": {
     "end_time": "2024-01-29T20:39:19.779728Z",
     "start_time": "2024-01-29T20:39:19.757341Z"
    }
   },
   "outputs": [],
   "source": []
  }
 ],
 "metadata": {
  "jupytext": {
   "cell_markers": "\"\"\""
  },
  "kernelspec": {
   "display_name": "Python 3",
   "language": "python",
   "name": "python3"
  }
 },
 "nbformat": 4,
 "nbformat_minor": 5
}
