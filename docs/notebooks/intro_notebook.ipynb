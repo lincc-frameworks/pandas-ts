{
 "cells": [
  {
   "cell_type": "markdown",
   "id": "accepting-editor",
   "metadata": {
    "cell_marker": "\"\"\""
   },
   "source": [
    "# Introducing Jupyter Notebooks in Sphinx\n",
    "\n",
    "This notebook showcases very basic functionality of rendering your jupyter notebooks as tutorials inside your sphinx documentation.\n",
    "\n",
    "As part of the LINCC Frameworks python project template, your notebooks will be executed AND rendered at document build time.\n",
    "\n",
    "You can read more about Sphinx, ReadTheDocs, and building notebooks in [LINCC's documentation](https://lincc-ppt.readthedocs.io/en/latest/practices/sphinx.html)"
   ]
  },
  {
   "cell_type": "raw",
   "id": "9e08c259aefa4ed",
   "metadata": {
    "collapsed": false
   },
   "source": [
    "# Create a source table and pack it into nested structures and lists"
   ]
  },
  {
   "cell_type": "code",
   "execution_count": null,
   "id": "165a7a0918b5a866",
   "metadata": {
    "ExecuteTime": {
     "end_time": "2024-02-10T01:39:30.160038Z",
     "start_time": "2024-02-10T01:39:30.149090Z"
    }
   },
   "outputs": [],
   "source": [
    "import numpy as np\n",
    "import pandas as pd\n",
    "from pandas_ts.packer import pack_flat\n",
    "\n",
    "\n",
    "# Adopted from\n",
    "# https://github.com/lincc-frameworks/tape/blob/6a694c4c138aadb1508c2a96de4fa63f90319331/tests/tape_tests/conftest.py#L15\n",
    "def create_test_rows():\n",
    "    num_points = 1000\n",
    "    all_bands = np.array([\"g\", \"r\", \"i\", \"z\"])\n",
    "\n",
    "    rows = {\n",
    "        \"id\": 8000 + (np.arange(num_points) % 5),\n",
    "        \"time\": np.arange(num_points),\n",
    "        \"flux\": np.arange(num_points) % len(all_bands),\n",
    "        \"band\": np.repeat(all_bands, num_points / len(all_bands)),\n",
    "        \"err\": 0.1 * (np.arange(num_points) % 10),\n",
    "        \"count\": np.arange(num_points),\n",
    "        # Not sure that I'm ready for Nones\n",
    "        # \"something_else\": np.full(num_points, None),\n",
    "    }\n",
    "\n",
    "    return rows\n",
    "\n",
    "\n",
    "sources = pd.DataFrame(create_test_rows())\n",
    "sources.set_index(\"id\", inplace=True)\n",
    "sources"
   ]
  },
  {
   "cell_type": "code",
   "execution_count": null,
   "id": "951dbb53d50f21c3",
   "metadata": {
    "ExecuteTime": {
     "end_time": "2024-02-10T01:39:30.189466Z",
     "start_time": "2024-02-10T01:39:30.159709Z"
    }
   },
   "outputs": [],
   "source": [
    "packed = pack_flat(sources, name=\"sources\")\n",
    "packed"
   ]
  },
  {
   "cell_type": "markdown",
   "id": "b08d49b762877dcb",
   "metadata": {
    "collapsed": false
   },
   "source": [
    "### Single item of the packed series is returned as a new DataFrame"
   ]
  },
  {
   "cell_type": "code",
   "execution_count": null,
   "id": "edd0b2714196c9d0",
   "metadata": {
    "ExecuteTime": {
     "end_time": "2024-02-10T01:39:30.198879Z",
     "start_time": "2024-02-10T01:39:30.174055Z"
    }
   },
   "outputs": [],
   "source": [
    "packed.iloc[0]"
   ]
  },
  {
   "cell_type": "code",
   "execution_count": null,
   "id": "3144e1a6c5964ed9",
   "metadata": {
    "ExecuteTime": {
     "end_time": "2024-02-10T01:39:30.199209Z",
     "start_time": "2024-02-10T01:39:30.177075Z"
    }
   },
   "outputs": [],
   "source": [
    "# Get the linearly interpolated flux for time=10\n",
    "packed.apply(lambda df: np.interp(10.0, df[\"time\"], df[\"flux\"]))"
   ]
  },
  {
   "cell_type": "markdown",
   "id": "2a7fef0ef94ff597",
   "metadata": {
    "collapsed": false
   },
   "source": [
    "### Get packed sources series and play with `.ts` accessor\n",
    "This series is a collection of structures, each structure consist of multiple fields, and each field is a \"list\" of values. "
   ]
  },
  {
   "cell_type": "code",
   "execution_count": null,
   "id": "620ad241f94d3e98",
   "metadata": {
    "ExecuteTime": {
     "end_time": "2024-02-10T01:39:30.199615Z",
     "start_time": "2024-02-10T01:39:30.181712Z"
    }
   },
   "outputs": [],
   "source": [
    "packed.ts.to_flat()"
   ]
  },
  {
   "cell_type": "code",
   "execution_count": null,
   "id": "63e47b51a269305f",
   "metadata": {
    "ExecuteTime": {
     "end_time": "2024-02-10T01:39:30.233014Z",
     "start_time": "2024-02-10T01:39:30.187003Z"
    }
   },
   "outputs": [],
   "source": [
    "packed.ts.to_lists()"
   ]
  },
  {
   "cell_type": "code",
   "execution_count": null,
   "id": "ac15e872786696ef",
   "metadata": {
    "ExecuteTime": {
     "end_time": "2024-02-10T01:39:30.233876Z",
     "start_time": "2024-02-10T01:39:30.199688Z"
    }
   },
   "outputs": [],
   "source": [
    "packed.ts[\"flux\"]"
   ]
  },
  {
   "cell_type": "code",
   "execution_count": null,
   "id": "dc7dbd52f1a8407a",
   "metadata": {
    "ExecuteTime": {
     "end_time": "2024-02-10T01:39:30.234133Z",
     "start_time": "2024-02-10T01:39:30.203067Z"
    }
   },
   "outputs": [],
   "source": [
    "packed.dtype"
   ]
  },
  {
   "cell_type": "markdown",
   "id": "f5e28c105ad20b65",
   "metadata": {
    "collapsed": false
   },
   "source": [
    "### Modify underlying fields with `.ts` accessor"
   ]
  },
  {
   "cell_type": "code",
   "execution_count": null,
   "id": "996f07b4d16e17e5",
   "metadata": {
    "ExecuteTime": {
     "end_time": "2024-02-10T01:39:30.258828Z",
     "start_time": "2024-02-10T01:39:30.205206Z"
    }
   },
   "outputs": [],
   "source": [
    "# Change flux in place with flat arrays\n",
    "packed.ts[\"flux\"] = -1 * packed.ts[\"flux\"].list.flatten()\n",
    "packed.ts[\"flux\"]"
   ]
  },
  {
   "cell_type": "code",
   "execution_count": null,
   "id": "21d5c009ef0990a4",
   "metadata": {
    "ExecuteTime": {
     "end_time": "2024-02-10T01:39:30.265082Z",
     "start_time": "2024-02-10T01:39:30.210342Z"
    }
   },
   "outputs": [],
   "source": [
    "# Change errors for object 8003\n",
    "light_curve = packed.loc[8003]\n",
    "light_curve[\"err\"] += 25\n",
    "# packed.lpc[8003] = ... does not work\n",
    "packed.iloc[3:4] = [light_curve]\n",
    "packed.iloc[0]"
   ]
  },
  {
   "cell_type": "code",
   "execution_count": null,
   "id": "3a713c94897456e1",
   "metadata": {
    "ExecuteTime": {
     "end_time": "2024-02-10T01:39:30.296942Z",
     "start_time": "2024-02-10T01:39:30.217371Z"
    }
   },
   "outputs": [],
   "source": [
    "# Delete field and add new one\n",
    "del packed.ts[\"count\"]\n",
    "filters = packed.ts.delete_field(\"band\")\n",
    "filters = \"lsst_\" + filters.list.flatten()\n",
    "packed.ts[\"filters\"] = filters\n",
    "packed"
   ]
  },
  {
   "cell_type": "code",
   "execution_count": null,
   "id": "92e6d69978ae9479",
   "metadata": {
    "ExecuteTime": {
     "end_time": "2024-02-10T01:39:30.297264Z",
     "start_time": "2024-02-10T01:39:30.224220Z"
    }
   },
   "outputs": [],
   "source": []
  }
 ],
 "metadata": {
  "jupytext": {
   "cell_markers": "\"\"\""
  },
  "kernelspec": {
   "display_name": "Python 3",
   "language": "python",
   "name": "python3"
  }
 },
 "nbformat": 4,
 "nbformat_minor": 5
}
