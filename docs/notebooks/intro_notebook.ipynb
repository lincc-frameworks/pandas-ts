{
 "cells": [
  {
   "cell_type": "markdown",
   "id": "accepting-editor",
   "metadata": {
    "cell_marker": "\"\"\""
   },
   "source": [
    "# Introducing Jupyter Notebooks in Sphinx\n",
    "\n",
    "This notebook showcases very basic functionality of rendering your jupyter notebooks as tutorials inside your sphinx documentation.\n",
    "\n",
    "As part of the LINCC Frameworks python project template, your notebooks will be executed AND rendered at document build time.\n",
    "\n",
    "You can read more about Sphinx, ReadTheDocs, and building notebooks in [LINCC's documentation](https://lincc-ppt.readthedocs.io/en/latest/practices/sphinx.html)"
   ]
  },
  {
   "cell_type": "raw",
   "id": "9e08c259aefa4ed",
   "metadata": {
    "collapsed": false
   },
   "source": [
    "# Create a source table and pack it into nested structures and lists"
   ]
  },
  {
   "cell_type": "code",
   "execution_count": null,
   "id": "165a7a0918b5a866",
   "metadata": {
    "ExecuteTime": {
     "end_time": "2024-02-02T21:06:06.593949Z",
     "start_time": "2024-02-02T21:06:06.560451Z"
    }
   },
   "outputs": [],
   "source": [
    "import numpy as np\n",
    "import pandas as pd\n",
    "\n",
    "from pandas_ts.packer import pack_flat, pack_nested\n",
    "\n",
    "\n",
    "# Adopted from\n",
    "# https://github.com/lincc-frameworks/tape/blob/6a694c4c138aadb1508c2a96de4fa63f90319331/tests/tape_tests/conftest.py#L15\n",
    "def create_test_rows():\n",
    "    num_points = 1000\n",
    "    all_bands = np.array([\"r\", \"g\", \"b\", \"i\"])\n",
    "\n",
    "    rows = {\n",
    "        \"id\": 8000 + (np.arange(num_points) % 5),\n",
    "        \"time\": np.arange(num_points),\n",
    "        \"flux\": np.arange(num_points) % len(all_bands),\n",
    "        \"band\": np.repeat(all_bands, num_points / len(all_bands)),\n",
    "        \"err\": 0.1 * (np.arange(num_points) % 10),\n",
    "        \"count\": np.arange(num_points),\n",
    "        # Not sure that I'm ready for Nones\n",
    "        # \"something_else\": np.full(num_points, None),\n",
    "    }\n",
    "\n",
    "    return rows\n",
    "\n",
    "\n",
    "sources = pd.DataFrame(create_test_rows())\n",
    "sources.set_index(\"id\", inplace=True)\n",
    "sources"
   ]
  },
  {
   "cell_type": "code",
   "execution_count": null,
   "id": "951dbb53d50f21c3",
   "metadata": {
    "ExecuteTime": {
     "end_time": "2024-02-02T21:06:06.594146Z",
     "start_time": "2024-02-02T21:06:06.573280Z"
    }
   },
   "outputs": [],
   "source": [
    "packed = pack_flat(sources, name=\"sources\")\n",
    "packed"
   ]
  },
  {
   "cell_type": "markdown",
   "id": "b08d49b762877dcb",
   "metadata": {
    "collapsed": false
   },
   "source": [
    "### Single item of the packed series is returned as a new DataFrame"
   ]
  },
  {
   "cell_type": "code",
   "execution_count": null,
   "id": "edd0b2714196c9d0",
   "metadata": {
    "ExecuteTime": {
     "end_time": "2024-02-02T21:06:06.615393Z",
     "start_time": "2024-02-02T21:06:06.595599Z"
    }
   },
   "outputs": [],
   "source": [
    "packed.iloc[0]"
   ]
  },
  {
   "cell_type": "code",
   "execution_count": null,
   "id": "3144e1a6c5964ed9",
   "metadata": {
    "ExecuteTime": {
     "end_time": "2024-02-02T21:39:59.851440Z",
     "start_time": "2024-02-02T21:39:59.845160Z"
    }
   },
   "outputs": [],
   "source": [
    "# Get the linearly interpolated flux for time=10\n",
    "packed.apply(lambda df: np.interp(10.0, df[\"time\"], df[\"flux\"]))"
   ]
  },
  {
   "cell_type": "markdown",
   "id": "2a7fef0ef94ff597",
   "metadata": {
    "collapsed": false
   },
   "source": [
    "### Get packed sources series and play with `.ts` accessors\n",
    "This series is a collection of structures, each structure consist of multiple fields, and each field is a \"list\" of values. "
   ]
  },
  {
   "cell_type": "code",
   "execution_count": null,
   "id": "620ad241f94d3e98",
   "metadata": {
    "ExecuteTime": {
     "start_time": "2024-02-02T21:06:06.602564Z"
    }
   },
   "outputs": [],
   "source": [
    "packed.ts.to_flat()"
   ]
  },
  {
   "cell_type": "code",
   "execution_count": null,
   "id": "63e47b51a269305f",
   "metadata": {
    "ExecuteTime": {
     "start_time": "2024-02-02T21:06:06.604284Z"
    }
   },
   "outputs": [],
   "source": [
    "packed.ts.to_nested()"
   ]
  },
  {
   "cell_type": "code",
   "execution_count": null,
   "id": "ac15e872786696ef",
   "metadata": {
    "ExecuteTime": {
     "start_time": "2024-02-02T21:06:06.605164Z"
    }
   },
   "outputs": [],
   "source": [
    "packed.ts[\"flux\"]"
   ]
  },
  {
   "cell_type": "code",
   "execution_count": null,
   "id": "dc7dbd52f1a8407a",
   "metadata": {
    "ExecuteTime": {
     "start_time": "2024-02-02T21:06:06.605800Z"
    }
   },
   "outputs": [],
   "source": [
    "packed.dtype"
   ]
  }
 ],
 "metadata": {
  "jupytext": {
   "cell_markers": "\"\"\""
  },
  "kernelspec": {
   "display_name": "Python 3",
   "language": "python",
   "name": "python3"
  }
 },
 "nbformat": 4,
 "nbformat_minor": 5
}
