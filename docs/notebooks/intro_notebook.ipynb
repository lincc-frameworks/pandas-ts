{
 "cells": [
  {
   "cell_type": "markdown",
   "id": "accepting-editor",
   "metadata": {
    "cell_marker": "\"\"\""
   },
   "source": [
    "# Introducing Jupyter Notebooks in Sphinx\n",
    "\n",
    "This notebook showcases very basic functionality of rendering your jupyter notebooks as tutorials inside your sphinx documentation.\n",
    "\n",
    "As part of the LINCC Frameworks python project template, your notebooks will be executed AND rendered at document build time.\n",
    "\n",
    "You can read more about Sphinx, ReadTheDocs, and building notebooks in [LINCC's documentation](https://lincc-ppt.readthedocs.io/en/latest/practices/sphinx.html)"
   ]
  },
  {
   "cell_type": "raw",
   "id": "9e08c259aefa4ed",
   "metadata": {
    "collapsed": false
   },
   "source": [
    "# Create a source table and pack it into nested structures and lists"
   ]
  },
  {
   "cell_type": "code",
   "execution_count": 1,
   "id": "165a7a0918b5a866",
   "metadata": {
    "ExecuteTime": {
     "end_time": "2024-02-11T01:14:37.845904Z",
     "start_time": "2024-02-11T01:14:37.832532Z"
    }
   },
   "outputs": [
    {
     "data": {
      "text/plain": "      time  flux band  err  count\nid                               \n8000     0     0    g  0.0      0\n8001     1     1    g  0.1      1\n8002     2     2    g  0.2      2\n8003     3     3    g  0.3      3\n8004     4     0    g  0.4      4\n...    ...   ...  ...  ...    ...\n8000   995     3    z  0.5    995\n8001   996     0    z  0.6    996\n8002   997     1    z  0.7    997\n8003   998     2    z  0.8    998\n8004   999     3    z  0.9    999\n\n[1000 rows x 5 columns]",
      "text/html": "<div>\n<style scoped>\n    .dataframe tbody tr th:only-of-type {\n        vertical-align: middle;\n    }\n\n    .dataframe tbody tr th {\n        vertical-align: top;\n    }\n\n    .dataframe thead th {\n        text-align: right;\n    }\n</style>\n<table border=\"1\" class=\"dataframe\">\n  <thead>\n    <tr style=\"text-align: right;\">\n      <th></th>\n      <th>time</th>\n      <th>flux</th>\n      <th>band</th>\n      <th>err</th>\n      <th>count</th>\n    </tr>\n    <tr>\n      <th>id</th>\n      <th></th>\n      <th></th>\n      <th></th>\n      <th></th>\n      <th></th>\n    </tr>\n  </thead>\n  <tbody>\n    <tr>\n      <th>8000</th>\n      <td>0</td>\n      <td>0</td>\n      <td>g</td>\n      <td>0.0</td>\n      <td>0</td>\n    </tr>\n    <tr>\n      <th>8001</th>\n      <td>1</td>\n      <td>1</td>\n      <td>g</td>\n      <td>0.1</td>\n      <td>1</td>\n    </tr>\n    <tr>\n      <th>8002</th>\n      <td>2</td>\n      <td>2</td>\n      <td>g</td>\n      <td>0.2</td>\n      <td>2</td>\n    </tr>\n    <tr>\n      <th>8003</th>\n      <td>3</td>\n      <td>3</td>\n      <td>g</td>\n      <td>0.3</td>\n      <td>3</td>\n    </tr>\n    <tr>\n      <th>8004</th>\n      <td>4</td>\n      <td>0</td>\n      <td>g</td>\n      <td>0.4</td>\n      <td>4</td>\n    </tr>\n    <tr>\n      <th>...</th>\n      <td>...</td>\n      <td>...</td>\n      <td>...</td>\n      <td>...</td>\n      <td>...</td>\n    </tr>\n    <tr>\n      <th>8000</th>\n      <td>995</td>\n      <td>3</td>\n      <td>z</td>\n      <td>0.5</td>\n      <td>995</td>\n    </tr>\n    <tr>\n      <th>8001</th>\n      <td>996</td>\n      <td>0</td>\n      <td>z</td>\n      <td>0.6</td>\n      <td>996</td>\n    </tr>\n    <tr>\n      <th>8002</th>\n      <td>997</td>\n      <td>1</td>\n      <td>z</td>\n      <td>0.7</td>\n      <td>997</td>\n    </tr>\n    <tr>\n      <th>8003</th>\n      <td>998</td>\n      <td>2</td>\n      <td>z</td>\n      <td>0.8</td>\n      <td>998</td>\n    </tr>\n    <tr>\n      <th>8004</th>\n      <td>999</td>\n      <td>3</td>\n      <td>z</td>\n      <td>0.9</td>\n      <td>999</td>\n    </tr>\n  </tbody>\n</table>\n<p>1000 rows × 5 columns</p>\n</div>"
     },
     "execution_count": 1,
     "metadata": {},
     "output_type": "execute_result"
    }
   ],
   "source": [
    "import numpy as np\n",
    "import pandas as pd\n",
    "from pandas_ts.packer import pack_flat, pack_dfs\n",
    "\n",
    "\n",
    "# Adopted from\n",
    "# https://github.com/lincc-frameworks/tape/blob/6a694c4c138aadb1508c2a96de4fa63f90319331/tests/tape_tests/conftest.py#L15\n",
    "def create_test_rows():\n",
    "    num_points = 1000\n",
    "    all_bands = np.array([\"g\", \"r\", \"i\", \"z\"])\n",
    "\n",
    "    rows = {\n",
    "        \"id\": 8000 + (np.arange(num_points) % 5),\n",
    "        \"time\": np.arange(num_points),\n",
    "        \"flux\": np.arange(num_points) % len(all_bands),\n",
    "        \"band\": np.repeat(all_bands, num_points / len(all_bands)),\n",
    "        \"err\": 0.1 * (np.arange(num_points) % 10),\n",
    "        \"count\": np.arange(num_points),\n",
    "        # Not sure that I'm ready for Nones\n",
    "        # \"something_else\": np.full(num_points, None),\n",
    "    }\n",
    "\n",
    "    return rows\n",
    "\n",
    "\n",
    "sources = pd.DataFrame(create_test_rows())\n",
    "sources.set_index(\"id\", inplace=True)\n",
    "sources"
   ]
  },
  {
   "cell_type": "code",
   "execution_count": 2,
   "id": "951dbb53d50f21c3",
   "metadata": {
    "ExecuteTime": {
     "end_time": "2024-02-11T01:14:37.862593Z",
     "start_time": "2024-02-11T01:14:37.846548Z"
    }
   },
   "outputs": [
    {
     "data": {
      "text/plain": "8000         time  flux band  err  count\n0       0    ...\n8001         time  flux band  err  count\n0       1    ...\n8002         time  flux band  err  count\n0       2    ...\n8003         time  flux band  err  count\n0       3    ...\n8004         time  flux band  err  count\n0       4    ...\nName: sources, dtype: ts<time: [int64], flux: [int64], band: [string], err: [double], count: [int64]>"
     },
     "execution_count": 2,
     "metadata": {},
     "output_type": "execute_result"
    }
   ],
   "source": [
    "packed = pack_flat(sources, name=\"sources\")\n",
    "packed"
   ]
  },
  {
   "cell_type": "markdown",
   "id": "b08d49b762877dcb",
   "metadata": {
    "collapsed": false
   },
   "source": [
    "### Single item of the packed series is returned as a new DataFrame"
   ]
  },
  {
   "cell_type": "code",
   "execution_count": 3,
   "id": "edd0b2714196c9d0",
   "metadata": {
    "ExecuteTime": {
     "end_time": "2024-02-11T01:14:37.872008Z",
     "start_time": "2024-02-11T01:14:37.859405Z"
    }
   },
   "outputs": [
    {
     "data": {
      "text/plain": "     time  flux band  err  count\n0       0     0    g  0.0      0\n1       5     1    g  0.5      5\n2      10     2    g  0.0     10\n3      15     3    g  0.5     15\n4      20     0    g  0.0     20\n..    ...   ...  ...  ...    ...\n195   975     3    z  0.5    975\n196   980     0    z  0.0    980\n197   985     1    z  0.5    985\n198   990     2    z  0.0    990\n199   995     3    z  0.5    995\n\n[200 rows x 5 columns]",
      "text/html": "<div>\n<style scoped>\n    .dataframe tbody tr th:only-of-type {\n        vertical-align: middle;\n    }\n\n    .dataframe tbody tr th {\n        vertical-align: top;\n    }\n\n    .dataframe thead th {\n        text-align: right;\n    }\n</style>\n<table border=\"1\" class=\"dataframe\">\n  <thead>\n    <tr style=\"text-align: right;\">\n      <th></th>\n      <th>time</th>\n      <th>flux</th>\n      <th>band</th>\n      <th>err</th>\n      <th>count</th>\n    </tr>\n  </thead>\n  <tbody>\n    <tr>\n      <th>0</th>\n      <td>0</td>\n      <td>0</td>\n      <td>g</td>\n      <td>0.0</td>\n      <td>0</td>\n    </tr>\n    <tr>\n      <th>1</th>\n      <td>5</td>\n      <td>1</td>\n      <td>g</td>\n      <td>0.5</td>\n      <td>5</td>\n    </tr>\n    <tr>\n      <th>2</th>\n      <td>10</td>\n      <td>2</td>\n      <td>g</td>\n      <td>0.0</td>\n      <td>10</td>\n    </tr>\n    <tr>\n      <th>3</th>\n      <td>15</td>\n      <td>3</td>\n      <td>g</td>\n      <td>0.5</td>\n      <td>15</td>\n    </tr>\n    <tr>\n      <th>4</th>\n      <td>20</td>\n      <td>0</td>\n      <td>g</td>\n      <td>0.0</td>\n      <td>20</td>\n    </tr>\n    <tr>\n      <th>...</th>\n      <td>...</td>\n      <td>...</td>\n      <td>...</td>\n      <td>...</td>\n      <td>...</td>\n    </tr>\n    <tr>\n      <th>195</th>\n      <td>975</td>\n      <td>3</td>\n      <td>z</td>\n      <td>0.5</td>\n      <td>975</td>\n    </tr>\n    <tr>\n      <th>196</th>\n      <td>980</td>\n      <td>0</td>\n      <td>z</td>\n      <td>0.0</td>\n      <td>980</td>\n    </tr>\n    <tr>\n      <th>197</th>\n      <td>985</td>\n      <td>1</td>\n      <td>z</td>\n      <td>0.5</td>\n      <td>985</td>\n    </tr>\n    <tr>\n      <th>198</th>\n      <td>990</td>\n      <td>2</td>\n      <td>z</td>\n      <td>0.0</td>\n      <td>990</td>\n    </tr>\n    <tr>\n      <th>199</th>\n      <td>995</td>\n      <td>3</td>\n      <td>z</td>\n      <td>0.5</td>\n      <td>995</td>\n    </tr>\n  </tbody>\n</table>\n<p>200 rows × 5 columns</p>\n</div>"
     },
     "execution_count": 3,
     "metadata": {},
     "output_type": "execute_result"
    }
   ],
   "source": [
    "packed.iloc[0]"
   ]
  },
  {
   "cell_type": "code",
   "execution_count": 4,
   "id": "3144e1a6c5964ed9",
   "metadata": {
    "ExecuteTime": {
     "end_time": "2024-02-11T01:14:37.872916Z",
     "start_time": "2024-02-11T01:14:37.861951Z"
    }
   },
   "outputs": [
    {
     "data": {
      "text/plain": "8000    2.0\n8001    2.8\n8002    1.2\n8003    0.4\n8004    1.2\nName: sources, dtype: float64"
     },
     "execution_count": 4,
     "metadata": {},
     "output_type": "execute_result"
    }
   ],
   "source": [
    "# Get the linearly interpolated flux for time=10\n",
    "packed.apply(lambda df: np.interp(10.0, df[\"time\"], df[\"flux\"]))"
   ]
  },
  {
   "cell_type": "markdown",
   "id": "2a7fef0ef94ff597",
   "metadata": {
    "collapsed": false
   },
   "source": [
    "### Get packed sources series and play with `.ts` accessor\n",
    "This series is a collection of structures, each structure consist of multiple fields, and each field is a \"list\" of values. "
   ]
  },
  {
   "cell_type": "code",
   "execution_count": 5,
   "id": "620ad241f94d3e98",
   "metadata": {
    "ExecuteTime": {
     "end_time": "2024-02-11T01:14:37.902167Z",
     "start_time": "2024-02-11T01:14:37.866603Z"
    }
   },
   "outputs": [
    {
     "data": {
      "text/plain": "      time  flux band  err  count\n8000     0     0    g  0.0      0\n8000     5     1    g  0.5      5\n8000    10     2    g  0.0     10\n8000    15     3    g  0.5     15\n8000    20     0    g  0.0     20\n...    ...   ...  ...  ...    ...\n8004   979     3    z  0.9    979\n8004   984     0    z  0.4    984\n8004   989     1    z  0.9    989\n8004   994     2    z  0.4    994\n8004   999     3    z  0.9    999\n\n[1000 rows x 5 columns]",
      "text/html": "<div>\n<style scoped>\n    .dataframe tbody tr th:only-of-type {\n        vertical-align: middle;\n    }\n\n    .dataframe tbody tr th {\n        vertical-align: top;\n    }\n\n    .dataframe thead th {\n        text-align: right;\n    }\n</style>\n<table border=\"1\" class=\"dataframe\">\n  <thead>\n    <tr style=\"text-align: right;\">\n      <th></th>\n      <th>time</th>\n      <th>flux</th>\n      <th>band</th>\n      <th>err</th>\n      <th>count</th>\n    </tr>\n  </thead>\n  <tbody>\n    <tr>\n      <th>8000</th>\n      <td>0</td>\n      <td>0</td>\n      <td>g</td>\n      <td>0.0</td>\n      <td>0</td>\n    </tr>\n    <tr>\n      <th>8000</th>\n      <td>5</td>\n      <td>1</td>\n      <td>g</td>\n      <td>0.5</td>\n      <td>5</td>\n    </tr>\n    <tr>\n      <th>8000</th>\n      <td>10</td>\n      <td>2</td>\n      <td>g</td>\n      <td>0.0</td>\n      <td>10</td>\n    </tr>\n    <tr>\n      <th>8000</th>\n      <td>15</td>\n      <td>3</td>\n      <td>g</td>\n      <td>0.5</td>\n      <td>15</td>\n    </tr>\n    <tr>\n      <th>8000</th>\n      <td>20</td>\n      <td>0</td>\n      <td>g</td>\n      <td>0.0</td>\n      <td>20</td>\n    </tr>\n    <tr>\n      <th>...</th>\n      <td>...</td>\n      <td>...</td>\n      <td>...</td>\n      <td>...</td>\n      <td>...</td>\n    </tr>\n    <tr>\n      <th>8004</th>\n      <td>979</td>\n      <td>3</td>\n      <td>z</td>\n      <td>0.9</td>\n      <td>979</td>\n    </tr>\n    <tr>\n      <th>8004</th>\n      <td>984</td>\n      <td>0</td>\n      <td>z</td>\n      <td>0.4</td>\n      <td>984</td>\n    </tr>\n    <tr>\n      <th>8004</th>\n      <td>989</td>\n      <td>1</td>\n      <td>z</td>\n      <td>0.9</td>\n      <td>989</td>\n    </tr>\n    <tr>\n      <th>8004</th>\n      <td>994</td>\n      <td>2</td>\n      <td>z</td>\n      <td>0.4</td>\n      <td>994</td>\n    </tr>\n    <tr>\n      <th>8004</th>\n      <td>999</td>\n      <td>3</td>\n      <td>z</td>\n      <td>0.9</td>\n      <td>999</td>\n    </tr>\n  </tbody>\n</table>\n<p>1000 rows × 5 columns</p>\n</div>"
     },
     "execution_count": 5,
     "metadata": {},
     "output_type": "execute_result"
    }
   ],
   "source": [
    "packed.ts.to_flat()"
   ]
  },
  {
   "cell_type": "code",
   "execution_count": 6,
   "id": "63e47b51a269305f",
   "metadata": {
    "ExecuteTime": {
     "end_time": "2024-02-11T01:14:37.926479Z",
     "start_time": "2024-02-11T01:14:37.870840Z"
    }
   },
   "outputs": [
    {
     "data": {
      "text/plain": "                                                   time  \\\n8000  [  0   5  10  15  20  25  30  35  40  45  50  ...   \n8001  [  1   6  11  16  21  26  31  36  41  46  51  ...   \n8002  [  2   7  12  17  22  27  32  37  42  47  52  ...   \n8003  [  3   8  13  18  23  28  33  38  43  48  53  ...   \n8004  [  4   9  14  19  24  29  34  39  44  49  54  ...   \n\n                                                   flux  \\\n8000  [0 1 2 3 0 1 2 3 0 1 2 3 0 1 2 3 0 1 2 3 0 1 2...   \n8001  [1 2 3 0 1 2 3 0 1 2 3 0 1 2 3 0 1 2 3 0 1 2 3...   \n8002  [2 3 0 1 2 3 0 1 2 3 0 1 2 3 0 1 2 3 0 1 2 3 0...   \n8003  [3 0 1 2 3 0 1 2 3 0 1 2 3 0 1 2 3 0 1 2 3 0 1...   \n8004  [0 1 2 3 0 1 2 3 0 1 2 3 0 1 2 3 0 1 2 3 0 1 2...   \n\n                                                   band  \\\n8000  ['g' 'g' 'g' 'g' 'g' 'g' 'g' 'g' 'g' 'g' 'g' '...   \n8001  ['g' 'g' 'g' 'g' 'g' 'g' 'g' 'g' 'g' 'g' 'g' '...   \n8002  ['g' 'g' 'g' 'g' 'g' 'g' 'g' 'g' 'g' 'g' 'g' '...   \n8003  ['g' 'g' 'g' 'g' 'g' 'g' 'g' 'g' 'g' 'g' 'g' '...   \n8004  ['g' 'g' 'g' 'g' 'g' 'g' 'g' 'g' 'g' 'g' 'g' '...   \n\n                                                    err  \\\n8000  [0.  0.5 0.  0.5 0.  0.5 0.  0.5 0.  0.5 0.  0...   \n8001  [0.1 0.6 0.1 0.6 0.1 0.6 0.1 0.6 0.1 0.6 0.1 0...   \n8002  [0.2 0.7 0.2 0.7 0.2 0.7 0.2 0.7 0.2 0.7 0.2 0...   \n8003  [0.3 0.8 0.3 0.8 0.3 0.8 0.3 0.8 0.3 0.8 0.3 0...   \n8004  [0.4 0.9 0.4 0.9 0.4 0.9 0.4 0.9 0.4 0.9 0.4 0...   \n\n                                                  count  \n8000  [  0   5  10  15  20  25  30  35  40  45  50  ...  \n8001  [  1   6  11  16  21  26  31  36  41  46  51  ...  \n8002  [  2   7  12  17  22  27  32  37  42  47  52  ...  \n8003  [  3   8  13  18  23  28  33  38  43  48  53  ...  \n8004  [  4   9  14  19  24  29  34  39  44  49  54  ...  ",
      "text/html": "<div>\n<style scoped>\n    .dataframe tbody tr th:only-of-type {\n        vertical-align: middle;\n    }\n\n    .dataframe tbody tr th {\n        vertical-align: top;\n    }\n\n    .dataframe thead th {\n        text-align: right;\n    }\n</style>\n<table border=\"1\" class=\"dataframe\">\n  <thead>\n    <tr style=\"text-align: right;\">\n      <th></th>\n      <th>time</th>\n      <th>flux</th>\n      <th>band</th>\n      <th>err</th>\n      <th>count</th>\n    </tr>\n  </thead>\n  <tbody>\n    <tr>\n      <th>8000</th>\n      <td>[  0   5  10  15  20  25  30  35  40  45  50  ...</td>\n      <td>[0 1 2 3 0 1 2 3 0 1 2 3 0 1 2 3 0 1 2 3 0 1 2...</td>\n      <td>['g' 'g' 'g' 'g' 'g' 'g' 'g' 'g' 'g' 'g' 'g' '...</td>\n      <td>[0.  0.5 0.  0.5 0.  0.5 0.  0.5 0.  0.5 0.  0...</td>\n      <td>[  0   5  10  15  20  25  30  35  40  45  50  ...</td>\n    </tr>\n    <tr>\n      <th>8001</th>\n      <td>[  1   6  11  16  21  26  31  36  41  46  51  ...</td>\n      <td>[1 2 3 0 1 2 3 0 1 2 3 0 1 2 3 0 1 2 3 0 1 2 3...</td>\n      <td>['g' 'g' 'g' 'g' 'g' 'g' 'g' 'g' 'g' 'g' 'g' '...</td>\n      <td>[0.1 0.6 0.1 0.6 0.1 0.6 0.1 0.6 0.1 0.6 0.1 0...</td>\n      <td>[  1   6  11  16  21  26  31  36  41  46  51  ...</td>\n    </tr>\n    <tr>\n      <th>8002</th>\n      <td>[  2   7  12  17  22  27  32  37  42  47  52  ...</td>\n      <td>[2 3 0 1 2 3 0 1 2 3 0 1 2 3 0 1 2 3 0 1 2 3 0...</td>\n      <td>['g' 'g' 'g' 'g' 'g' 'g' 'g' 'g' 'g' 'g' 'g' '...</td>\n      <td>[0.2 0.7 0.2 0.7 0.2 0.7 0.2 0.7 0.2 0.7 0.2 0...</td>\n      <td>[  2   7  12  17  22  27  32  37  42  47  52  ...</td>\n    </tr>\n    <tr>\n      <th>8003</th>\n      <td>[  3   8  13  18  23  28  33  38  43  48  53  ...</td>\n      <td>[3 0 1 2 3 0 1 2 3 0 1 2 3 0 1 2 3 0 1 2 3 0 1...</td>\n      <td>['g' 'g' 'g' 'g' 'g' 'g' 'g' 'g' 'g' 'g' 'g' '...</td>\n      <td>[0.3 0.8 0.3 0.8 0.3 0.8 0.3 0.8 0.3 0.8 0.3 0...</td>\n      <td>[  3   8  13  18  23  28  33  38  43  48  53  ...</td>\n    </tr>\n    <tr>\n      <th>8004</th>\n      <td>[  4   9  14  19  24  29  34  39  44  49  54  ...</td>\n      <td>[0 1 2 3 0 1 2 3 0 1 2 3 0 1 2 3 0 1 2 3 0 1 2...</td>\n      <td>['g' 'g' 'g' 'g' 'g' 'g' 'g' 'g' 'g' 'g' 'g' '...</td>\n      <td>[0.4 0.9 0.4 0.9 0.4 0.9 0.4 0.9 0.4 0.9 0.4 0...</td>\n      <td>[  4   9  14  19  24  29  34  39  44  49  54  ...</td>\n    </tr>\n  </tbody>\n</table>\n</div>"
     },
     "execution_count": 6,
     "metadata": {},
     "output_type": "execute_result"
    }
   ],
   "source": [
    "packed.ts.to_lists()"
   ]
  },
  {
   "cell_type": "code",
   "execution_count": 7,
   "id": "ac15e872786696ef",
   "metadata": {
    "ExecuteTime": {
     "end_time": "2024-02-11T01:14:37.926882Z",
     "start_time": "2024-02-11T01:14:37.885781Z"
    }
   },
   "outputs": [
    {
     "data": {
      "text/plain": "8000    [0 1 2 3 0 1 2 3 0 1 2 3 0 1 2 3 0 1 2 3 0 1 2...\n8001    [1 2 3 0 1 2 3 0 1 2 3 0 1 2 3 0 1 2 3 0 1 2 3...\n8002    [2 3 0 1 2 3 0 1 2 3 0 1 2 3 0 1 2 3 0 1 2 3 0...\n8003    [3 0 1 2 3 0 1 2 3 0 1 2 3 0 1 2 3 0 1 2 3 0 1...\n8004    [0 1 2 3 0 1 2 3 0 1 2 3 0 1 2 3 0 1 2 3 0 1 2...\nName: flux, dtype: list<item: int64>[pyarrow]"
     },
     "execution_count": 7,
     "metadata": {},
     "output_type": "execute_result"
    }
   ],
   "source": [
    "packed.ts[\"flux\"]"
   ]
  },
  {
   "cell_type": "code",
   "execution_count": 8,
   "id": "ce413366fa0a3a43",
   "metadata": {
    "ExecuteTime": {
     "end_time": "2024-02-11T01:14:37.927143Z",
     "start_time": "2024-02-11T01:14:37.888538Z"
    }
   },
   "outputs": [
    {
     "data": {
      "text/plain": "8000         time  flux\n0       0     0\n1       5     ...\n8001         time  flux\n0       1     1\n1       6     ...\n8002         time  flux\n0       2     2\n1       7     ...\n8003         time  flux\n0       3     3\n1       8     ...\n8004         time  flux\n0       4     0\n1       9     ...\nName: sources, dtype: ts<time: [int64], flux: [int64]>"
     },
     "execution_count": 8,
     "metadata": {},
     "output_type": "execute_result"
    }
   ],
   "source": [
    "packed.ts[[\"time\", \"flux\"]]"
   ]
  },
  {
   "cell_type": "code",
   "execution_count": 9,
   "id": "dc7dbd52f1a8407a",
   "metadata": {
    "ExecuteTime": {
     "end_time": "2024-02-11T01:14:37.927377Z",
     "start_time": "2024-02-11T01:14:37.893102Z"
    }
   },
   "outputs": [
    {
     "data": {
      "text/plain": "ts<time: [int64], flux: [int64], band: [string], err: [double], count: [int64]>"
     },
     "execution_count": 9,
     "metadata": {},
     "output_type": "execute_result"
    }
   ],
   "source": [
    "packed.dtype"
   ]
  },
  {
   "cell_type": "markdown",
   "id": "f5e28c105ad20b65",
   "metadata": {
    "collapsed": false
   },
   "source": [
    "### Modify underlying fields with `.ts` accessor"
   ]
  },
  {
   "cell_type": "code",
   "execution_count": 10,
   "id": "996f07b4d16e17e5",
   "metadata": {
    "ExecuteTime": {
     "end_time": "2024-02-11T01:14:37.927613Z",
     "start_time": "2024-02-11T01:14:37.894893Z"
    }
   },
   "outputs": [
    {
     "data": {
      "text/plain": "8000    [ 0 -1 -2 -3  0 -1 -2 -3  0 -1 -2 -3  0 -1 -2 ...\n8001    [-1 -2 -3  0 -1 -2 -3  0 -1 -2 -3  0 -1 -2 -3 ...\n8002    [-2 -3  0 -1 -2 -3  0 -1 -2 -3  0 -1 -2 -3  0 ...\n8003    [-3  0 -1 -2 -3  0 -1 -2 -3  0 -1 -2 -3  0 -1 ...\n8004    [ 0 -1 -2 -3  0 -1 -2 -3  0 -1 -2 -3  0 -1 -2 ...\nName: flux, dtype: list<item: int64>[pyarrow]"
     },
     "execution_count": 10,
     "metadata": {},
     "output_type": "execute_result"
    }
   ],
   "source": [
    "# Change flux in place with flat arrays\n",
    "packed.ts[\"flux\"] = -1 * packed.ts[\"flux\"].list.flatten()\n",
    "packed.ts[\"flux\"]"
   ]
  },
  {
   "cell_type": "code",
   "execution_count": 11,
   "id": "21d5c009ef0990a4",
   "metadata": {
    "ExecuteTime": {
     "end_time": "2024-02-11T01:14:37.928728Z",
     "start_time": "2024-02-11T01:14:37.900463Z"
    }
   },
   "outputs": [
    {
     "data": {
      "text/plain": "     time  flux band  err  count\n0       0     0    g  0.0      0\n1       5    -1    g  0.5      5\n2      10    -2    g  0.0     10\n3      15    -3    g  0.5     15\n4      20     0    g  0.0     20\n..    ...   ...  ...  ...    ...\n195   975    -3    z  0.5    975\n196   980     0    z  0.0    980\n197   985    -1    z  0.5    985\n198   990    -2    z  0.0    990\n199   995    -3    z  0.5    995\n\n[200 rows x 5 columns]",
      "text/html": "<div>\n<style scoped>\n    .dataframe tbody tr th:only-of-type {\n        vertical-align: middle;\n    }\n\n    .dataframe tbody tr th {\n        vertical-align: top;\n    }\n\n    .dataframe thead th {\n        text-align: right;\n    }\n</style>\n<table border=\"1\" class=\"dataframe\">\n  <thead>\n    <tr style=\"text-align: right;\">\n      <th></th>\n      <th>time</th>\n      <th>flux</th>\n      <th>band</th>\n      <th>err</th>\n      <th>count</th>\n    </tr>\n  </thead>\n  <tbody>\n    <tr>\n      <th>0</th>\n      <td>0</td>\n      <td>0</td>\n      <td>g</td>\n      <td>0.0</td>\n      <td>0</td>\n    </tr>\n    <tr>\n      <th>1</th>\n      <td>5</td>\n      <td>-1</td>\n      <td>g</td>\n      <td>0.5</td>\n      <td>5</td>\n    </tr>\n    <tr>\n      <th>2</th>\n      <td>10</td>\n      <td>-2</td>\n      <td>g</td>\n      <td>0.0</td>\n      <td>10</td>\n    </tr>\n    <tr>\n      <th>3</th>\n      <td>15</td>\n      <td>-3</td>\n      <td>g</td>\n      <td>0.5</td>\n      <td>15</td>\n    </tr>\n    <tr>\n      <th>4</th>\n      <td>20</td>\n      <td>0</td>\n      <td>g</td>\n      <td>0.0</td>\n      <td>20</td>\n    </tr>\n    <tr>\n      <th>...</th>\n      <td>...</td>\n      <td>...</td>\n      <td>...</td>\n      <td>...</td>\n      <td>...</td>\n    </tr>\n    <tr>\n      <th>195</th>\n      <td>975</td>\n      <td>-3</td>\n      <td>z</td>\n      <td>0.5</td>\n      <td>975</td>\n    </tr>\n    <tr>\n      <th>196</th>\n      <td>980</td>\n      <td>0</td>\n      <td>z</td>\n      <td>0.0</td>\n      <td>980</td>\n    </tr>\n    <tr>\n      <th>197</th>\n      <td>985</td>\n      <td>-1</td>\n      <td>z</td>\n      <td>0.5</td>\n      <td>985</td>\n    </tr>\n    <tr>\n      <th>198</th>\n      <td>990</td>\n      <td>-2</td>\n      <td>z</td>\n      <td>0.0</td>\n      <td>990</td>\n    </tr>\n    <tr>\n      <th>199</th>\n      <td>995</td>\n      <td>-3</td>\n      <td>z</td>\n      <td>0.5</td>\n      <td>995</td>\n    </tr>\n  </tbody>\n</table>\n<p>200 rows × 5 columns</p>\n</div>"
     },
     "execution_count": 11,
     "metadata": {},
     "output_type": "execute_result"
    }
   ],
   "source": [
    "# Change errors for object 8003\n",
    "light_curve = packed.loc[8003]\n",
    "light_curve[\"err\"] += 25\n",
    "# packed.lpc[8003] = ... does not work\n",
    "packed.iloc[3:4] = [light_curve]\n",
    "packed.iloc[0]"
   ]
  },
  {
   "cell_type": "code",
   "execution_count": 12,
   "id": "3a713c94897456e1",
   "metadata": {
    "ExecuteTime": {
     "end_time": "2024-02-11T01:14:37.929587Z",
     "start_time": "2024-02-11T01:14:37.906818Z"
    }
   },
   "outputs": [
    {
     "data": {
      "text/plain": "8000         time  flux  err filters\n0       0     0  ...\n8001         time  flux  err filters\n0       1    -1  ...\n8002         time  flux  err filters\n0       2    -2  ...\n8003         time  flux   err filters\n0       3    -3 ...\n8004         time  flux  err filters\n0       4     0  ...\nName: sources, dtype: ts<time: [int64], flux: [int64], band: [string], err: [double], count: [int64]>"
     },
     "execution_count": 12,
     "metadata": {},
     "output_type": "execute_result"
    }
   ],
   "source": [
    "# Delete field and add new one\n",
    "del packed.ts[\"count\"]\n",
    "filters = packed.ts.delete_field(\"band\")\n",
    "filters = \"lsst_\" + filters.list.flatten()\n",
    "packed.ts[\"filters\"] = filters\n",
    "packed"
   ]
  },
  {
   "cell_type": "markdown",
   "id": "7fc7ac2d28acf1de",
   "metadata": {
    "collapsed": false
   },
   "source": [
    "### Change all items and pack to a new Series"
   ]
  },
  {
   "cell_type": "code",
   "execution_count": 13,
   "id": "ab27747eba156888",
   "metadata": {
    "ExecuteTime": {
     "end_time": "2024-02-11T01:14:37.960832Z",
     "start_time": "2024-02-11T01:14:37.914626Z"
    }
   },
   "outputs": [
    {
     "data": {
      "text/plain": "(     time  flux  err filters\n 0       0     0  0.0  lsst_g\n 1       5    -1  0.5  lsst_g\n 2      10    -2  0.0  lsst_g\n 3      15    -3  0.5  lsst_g\n 4      20     0  0.0  lsst_g\n ..    ...   ...  ...     ...\n 195   975    -3  0.5  lsst_z\n 196   980     0  0.0  lsst_z\n 197   985    -1  0.5  lsst_z\n 198   990    -2  0.0  lsst_z\n 199   995    -3  0.5  lsst_z\n \n [200 rows x 4 columns],\n    time  flux  err filters\n 0     0     0  0.0  lsst_g\n 1   250    -2  0.0  lsst_r\n 2   500     0  0.0  lsst_i\n 3   750    -2  0.0  lsst_z)"
     },
     "execution_count": 13,
     "metadata": {},
     "output_type": "execute_result"
    }
   ],
   "source": [
    "# Subsample light curves\n",
    "dfs = packed.apply(lambda df: df.iloc[::50])\n",
    "subsampled = pack_dfs(dfs, name=\"subsampled\")\n",
    "packed.loc[8000], subsampled.loc[8000]"
   ]
  },
  {
   "cell_type": "code",
   "execution_count": 13,
   "id": "26c558e3551b5092",
   "metadata": {
    "ExecuteTime": {
     "end_time": "2024-02-11T01:14:37.961088Z",
     "start_time": "2024-02-11T01:14:37.921294Z"
    }
   },
   "outputs": [],
   "source": []
  }
 ],
 "metadata": {
  "jupytext": {
   "cell_markers": "\"\"\""
  },
  "kernelspec": {
   "display_name": "Python 3",
   "language": "python",
   "name": "python3"
  }
 },
 "nbformat": 4,
 "nbformat_minor": 5
}
